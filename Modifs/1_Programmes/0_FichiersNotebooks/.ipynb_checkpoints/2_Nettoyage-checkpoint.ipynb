{
 "cells": [
  {
   "cell_type": "code",
   "execution_count": 22,
   "metadata": {},
   "outputs": [],
   "source": [
    "# Import the required libraries:\n",
    "import warnings\n",
    "warnings.filterwarnings(\"ignore\")\n",
    "\n",
    "from utils import *"
   ]
  },
  {
   "cell_type": "code",
   "execution_count": 2,
   "metadata": {},
   "outputs": [
    {
     "data": {
      "text/html": [
       "<div>\n",
       "<style scoped>\n",
       "    .dataframe tbody tr th:only-of-type {\n",
       "        vertical-align: middle;\n",
       "    }\n",
       "\n",
       "    .dataframe tbody tr th {\n",
       "        vertical-align: top;\n",
       "    }\n",
       "\n",
       "    .dataframe thead th {\n",
       "        text-align: right;\n",
       "    }\n",
       "</style>\n",
       "<table border=\"1\" class=\"dataframe\">\n",
       "  <thead>\n",
       "    <tr style=\"text-align: right;\">\n",
       "      <th></th>\n",
       "      <th>BAD</th>\n",
       "      <th>LOAN</th>\n",
       "      <th>MORTDUE</th>\n",
       "      <th>VALUE</th>\n",
       "      <th>REASON</th>\n",
       "      <th>JOB</th>\n",
       "      <th>YOJ</th>\n",
       "      <th>DEROG</th>\n",
       "      <th>DELINQ</th>\n",
       "      <th>CLAGE</th>\n",
       "      <th>NINQ</th>\n",
       "      <th>CLNO</th>\n",
       "      <th>DEBTINC</th>\n",
       "    </tr>\n",
       "  </thead>\n",
       "  <tbody>\n",
       "    <tr>\n",
       "      <th>0</th>\n",
       "      <td>1</td>\n",
       "      <td>1100</td>\n",
       "      <td>25860.0</td>\n",
       "      <td>39025.0</td>\n",
       "      <td>HomeImp</td>\n",
       "      <td>Other</td>\n",
       "      <td>10.5</td>\n",
       "      <td>0.0</td>\n",
       "      <td>0.0</td>\n",
       "      <td>94.366667</td>\n",
       "      <td>1.0</td>\n",
       "      <td>9.0</td>\n",
       "      <td>NaN</td>\n",
       "    </tr>\n",
       "    <tr>\n",
       "      <th>1</th>\n",
       "      <td>1</td>\n",
       "      <td>1300</td>\n",
       "      <td>70053.0</td>\n",
       "      <td>68400.0</td>\n",
       "      <td>HomeImp</td>\n",
       "      <td>Other</td>\n",
       "      <td>7.0</td>\n",
       "      <td>0.0</td>\n",
       "      <td>2.0</td>\n",
       "      <td>121.833333</td>\n",
       "      <td>0.0</td>\n",
       "      <td>14.0</td>\n",
       "      <td>NaN</td>\n",
       "    </tr>\n",
       "    <tr>\n",
       "      <th>2</th>\n",
       "      <td>1</td>\n",
       "      <td>1500</td>\n",
       "      <td>13500.0</td>\n",
       "      <td>16700.0</td>\n",
       "      <td>HomeImp</td>\n",
       "      <td>Other</td>\n",
       "      <td>4.0</td>\n",
       "      <td>0.0</td>\n",
       "      <td>0.0</td>\n",
       "      <td>149.466667</td>\n",
       "      <td>1.0</td>\n",
       "      <td>10.0</td>\n",
       "      <td>NaN</td>\n",
       "    </tr>\n",
       "    <tr>\n",
       "      <th>3</th>\n",
       "      <td>1</td>\n",
       "      <td>1500</td>\n",
       "      <td>NaN</td>\n",
       "      <td>NaN</td>\n",
       "      <td>NaN</td>\n",
       "      <td>NaN</td>\n",
       "      <td>NaN</td>\n",
       "      <td>NaN</td>\n",
       "      <td>NaN</td>\n",
       "      <td>NaN</td>\n",
       "      <td>NaN</td>\n",
       "      <td>NaN</td>\n",
       "      <td>NaN</td>\n",
       "    </tr>\n",
       "    <tr>\n",
       "      <th>4</th>\n",
       "      <td>0</td>\n",
       "      <td>1700</td>\n",
       "      <td>97800.0</td>\n",
       "      <td>112000.0</td>\n",
       "      <td>HomeImp</td>\n",
       "      <td>Office</td>\n",
       "      <td>3.0</td>\n",
       "      <td>0.0</td>\n",
       "      <td>0.0</td>\n",
       "      <td>93.333333</td>\n",
       "      <td>0.0</td>\n",
       "      <td>14.0</td>\n",
       "      <td>NaN</td>\n",
       "    </tr>\n",
       "  </tbody>\n",
       "</table>\n",
       "</div>"
      ],
      "text/plain": [
       "   BAD  LOAN  MORTDUE     VALUE   REASON     JOB   YOJ  DEROG  DELINQ  \\\n",
       "0    1  1100  25860.0   39025.0  HomeImp   Other  10.5    0.0     0.0   \n",
       "1    1  1300  70053.0   68400.0  HomeImp   Other   7.0    0.0     2.0   \n",
       "2    1  1500  13500.0   16700.0  HomeImp   Other   4.0    0.0     0.0   \n",
       "3    1  1500      NaN       NaN      NaN     NaN   NaN    NaN     NaN   \n",
       "4    0  1700  97800.0  112000.0  HomeImp  Office   3.0    0.0     0.0   \n",
       "\n",
       "        CLAGE  NINQ  CLNO  DEBTINC  \n",
       "0   94.366667   1.0   9.0      NaN  \n",
       "1  121.833333   0.0  14.0      NaN  \n",
       "2  149.466667   1.0  10.0      NaN  \n",
       "3         NaN   NaN   NaN      NaN  \n",
       "4   93.333333   0.0  14.0      NaN  "
      ]
     },
     "execution_count": 2,
     "metadata": {},
     "output_type": "execute_result"
    }
   ],
   "source": [
    "data = pd.read_csv(\"hmeq.csv\")\n",
    "data.head(5)"
   ]
  },
  {
   "cell_type": "code",
   "execution_count": 3,
   "metadata": {},
   "outputs": [
    {
     "name": "stdout",
     "output_type": "stream",
     "text": [
      "<class 'pandas.core.frame.DataFrame'>\n",
      "RangeIndex: 5960 entries, 0 to 5959\n",
      "Data columns (total 13 columns):\n",
      " #   Column   Non-Null Count  Dtype  \n",
      "---  ------   --------------  -----  \n",
      " 0   BAD      5960 non-null   int64  \n",
      " 1   LOAN     5960 non-null   int64  \n",
      " 2   MORTDUE  5442 non-null   float64\n",
      " 3   VALUE    5848 non-null   float64\n",
      " 4   REASON   5708 non-null   object \n",
      " 5   JOB      5681 non-null   object \n",
      " 6   YOJ      5445 non-null   float64\n",
      " 7   DEROG    5252 non-null   float64\n",
      " 8   DELINQ   5380 non-null   float64\n",
      " 9   CLAGE    5652 non-null   float64\n",
      " 10  NINQ     5450 non-null   float64\n",
      " 11  CLNO     5738 non-null   float64\n",
      " 12  DEBTINC  4693 non-null   float64\n",
      "dtypes: float64(9), int64(2), object(2)\n",
      "memory usage: 605.4+ KB\n"
     ]
    }
   ],
   "source": [
    "data.info()"
   ]
  },
  {
   "cell_type": "markdown",
   "metadata": {},
   "source": [
    "###  **Données manquantes**"
   ]
  },
  {
   "cell_type": "markdown",
   "metadata": {},
   "source": [
    "\n",
    "La méthodologie employée pour imputer les données manquantes est la suivante : \n",
    "\n",
    "RQ : On considère qu'au delà de 40% de valeurs manquantes, une stratégie d'imputation risque d'introduire un biais dans l'analyse donc on va pas utiliser une telle variable par la suite.\n",
    "\n",
    "- Variables quantitatives : \n",
    "On va se baser sur la distribution de la variable, si sa distribution est asymétrique, on va imputer par la médiane et sinon par la moyenne.\n",
    "- Variables qualitatives : \n",
    "On va considérer le % de données manquantes, si celui-ci est inférieur à 15%, on va imputer par la valeur la plus fréquente (donc le mode), sinon on sera amené à créer une nouvelle classe nommée \"autres\". \n",
    "\n",
    "Les valeurs imputées dans le train_set seront repercutées dans le test_set"
   ]
  },
  {
   "cell_type": "code",
   "execution_count": 48,
   "metadata": {},
   "outputs": [],
   "source": [
    "train, test = train_test_split(data, test_size = 0.2, random_state = 42)"
   ]
  },
  {
   "cell_type": "code",
   "execution_count": 49,
   "metadata": {},
   "outputs": [
    {
     "name": "stdout",
     "output_type": "stream",
     "text": [
      "data shape (5960, 13)\n",
      "test shape (1192, 13)\n",
      "train shape (4768, 13)\n"
     ]
    }
   ],
   "source": [
    "print(\"data shape\", data.shape)\n",
    "print(\"test shape\", test.shape)\n",
    "print(\"train shape\", train.shape)\n"
   ]
  },
  {
   "cell_type": "code",
   "execution_count": 39,
   "metadata": {},
   "outputs": [
    {
     "data": {
      "text/plain": [
       "Index(['BAD', 'LOAN', 'MORTDUE', 'VALUE', 'REASON', 'JOB', 'YOJ', 'DEROG',\n",
       "       'DELINQ', 'CLAGE', 'NINQ', 'CLNO', 'DEBTINC'],\n",
       "      dtype='object')"
      ]
     },
     "execution_count": 39,
     "metadata": {},
     "output_type": "execute_result"
    }
   ],
   "source": [
    "train.columns"
   ]
  },
  {
   "cell_type": "code",
   "execution_count": 44,
   "metadata": {},
   "outputs": [],
   "source": [
    "#prct_num, prct_qual = utils.prct_nan(train)"
   ]
  },
  {
   "cell_type": "code",
   "execution_count": 50,
   "metadata": {},
   "outputs": [],
   "source": [
    "vars_num = [train.select_dtypes('float').columns]\n",
    "vars_qual = [train.select_dtypes('object').columns]"
   ]
  },
  {
   "cell_type": "code",
   "execution_count": 41,
   "metadata": {},
   "outputs": [],
   "source": [
    "#prct_num = [print((100*train[col].isna().sum()/train.shape[0]).sort_values(ascending = False)) for col in vars_num]\n",
    "#prct_qual = [print((100*train[col].isna().sum()/train.shape[0]).sort_values(ascending = False)) for col in vars_qual]"
   ]
  },
  {
   "cell_type": "code",
   "execution_count": 51,
   "metadata": {},
   "outputs": [
    {
     "name": "stdout",
     "output_type": "stream",
     "text": [
      "Pour les variables numériques, on a : \n",
      "\n",
      "DEBTINC    20.931208\n",
      "DEROG      11.577181\n",
      "DELINQ      9.584732\n",
      "MORTDUE     8.640940\n",
      "YOJ         8.473154\n",
      "NINQ        8.389262\n",
      "CLAGE       5.012584\n",
      "CLNO        3.544463\n",
      "VALUE       1.614933\n",
      "dtype: float64\n",
      "-----\n",
      "Pour les variables quantitatives, on a : \n",
      "\n",
      "JOB       4.656040\n",
      "REASON    4.089765\n",
      "dtype: float64\n"
     ]
    }
   ],
   "source": [
    "prct_num, prct_qual = utils.prct_nan(train)"
   ]
  },
  {
   "cell_type": "code",
   "execution_count": 52,
   "metadata": {},
   "outputs": [
    {
     "name": "stdout",
     "output_type": "stream",
     "text": [
      "Pour les variables numériques, on a : \n",
      "\n",
      "DEBTINC    22.567114\n",
      "DEROG      13.087248\n",
      "DELINQ     10.318792\n",
      "YOJ         9.312081\n",
      "NINQ        9.228188\n",
      "MORTDUE     8.892617\n",
      "CLAGE       5.788591\n",
      "CLNO        4.446309\n",
      "VALUE       2.936242\n",
      "dtype: float64\n",
      "-----\n",
      "Pour les variables quantitatives, on a : \n",
      "\n",
      "REASON    4.781879\n",
      "JOB       4.781879\n",
      "dtype: float64\n"
     ]
    }
   ],
   "source": [
    "prct_num, prct_qual = utils.prct_nan(test)"
   ]
  },
  {
   "cell_type": "code",
   "execution_count": 53,
   "metadata": {},
   "outputs": [
    {
     "name": "stdout",
     "output_type": "stream",
     "text": [
      "AVANT IMPUTATION\n",
      "\n",
      "\n",
      "**Variables quantitatives**:\n",
      "\n",
      "---Train set----\n",
      "Colonnes asymétriques dans le train ['MORTDUE', 'VALUE', 'DEROG', 'DELINQ', 'CLAGE', 'NINQ', 'DEBTINC']\n",
      "Colonnes symétriques dans le train ['YOJ', 'CLNO']\n",
      "----Test set----\n",
      "Colonnes asymétriques dans le test ['MORTDUE', 'VALUE', 'YOJ', 'DEROG', 'DELINQ', 'NINQ', 'DEBTINC']\n",
      "Colonnes symétriques dans le test ['CLAGE', 'CLNO']\n",
      "\n",
      "\n",
      "**Variables qualitatives**:\n",
      "\n",
      "---Train set----\n",
      "Colonnes avec - de 15% de nan dans le train ['REASON', 'JOB']\n",
      "Colonnes avec + de 15% de nan dans le train []\n",
      "----Test set----\n",
      "Colonnes avec - de 15% de nan dans le test ['REASON', 'JOB']\n",
      "Colonnes avec + de 15% de nan dans le test []\n",
      "\n",
      "\n",
      "\n",
      "APRÉS IMPUTATION\n",
      "Valeurs manquantes dans le test set\n",
      "\n",
      "BAD        0\n",
      "LOAN       0\n",
      "MORTDUE    0\n",
      "VALUE      0\n",
      "REASON     0\n",
      "JOB        0\n",
      "YOJ        0\n",
      "DEROG      0\n",
      "DELINQ     0\n",
      "CLAGE      0\n",
      "NINQ       0\n",
      "CLNO       0\n",
      "DEBTINC    0\n",
      "dtype: int64\n",
      "\n",
      "\n",
      "Valeurs manquantes dans le train set\n",
      "\n",
      "BAD        0\n",
      "LOAN       0\n",
      "MORTDUE    0\n",
      "VALUE      0\n",
      "REASON     0\n",
      "JOB        0\n",
      "YOJ        0\n",
      "DEROG      0\n",
      "DELINQ     0\n",
      "CLAGE      0\n",
      "NINQ       0\n",
      "CLNO       0\n",
      "DEBTINC    0\n",
      "dtype: int64\n"
     ]
    }
   ],
   "source": [
    "train, test = utils.imputation(train, test)"
   ]
  },
  {
   "cell_type": "code",
   "execution_count": 54,
   "metadata": {},
   "outputs": [],
   "source": [
    "data_clean = pd.concat([train.reset_index(drop=True), test.reset_index(drop=True)], axis= 0)"
   ]
  },
  {
   "cell_type": "code",
   "execution_count": 14,
   "metadata": {},
   "outputs": [
    {
     "data": {
      "text/html": [
       "<div>\n",
       "<style scoped>\n",
       "    .dataframe tbody tr th:only-of-type {\n",
       "        vertical-align: middle;\n",
       "    }\n",
       "\n",
       "    .dataframe tbody tr th {\n",
       "        vertical-align: top;\n",
       "    }\n",
       "\n",
       "    .dataframe thead th {\n",
       "        text-align: right;\n",
       "    }\n",
       "</style>\n",
       "<table border=\"1\" class=\"dataframe\">\n",
       "  <thead>\n",
       "    <tr style=\"text-align: right;\">\n",
       "      <th></th>\n",
       "      <th>BAD</th>\n",
       "      <th>LOAN</th>\n",
       "      <th>MORTDUE</th>\n",
       "      <th>VALUE</th>\n",
       "      <th>REASON</th>\n",
       "      <th>JOB</th>\n",
       "      <th>YOJ</th>\n",
       "      <th>DEROG</th>\n",
       "      <th>DELINQ</th>\n",
       "      <th>CLAGE</th>\n",
       "      <th>NINQ</th>\n",
       "      <th>CLNO</th>\n",
       "      <th>DEBTINC</th>\n",
       "    </tr>\n",
       "  </thead>\n",
       "  <tbody>\n",
       "    <tr>\n",
       "      <th>0</th>\n",
       "      <td>0</td>\n",
       "      <td>9100</td>\n",
       "      <td>62976.0</td>\n",
       "      <td>77829.0</td>\n",
       "      <td>HomeImp</td>\n",
       "      <td>Mgr</td>\n",
       "      <td>0.000000</td>\n",
       "      <td>0.0</td>\n",
       "      <td>2.0</td>\n",
       "      <td>131.193496</td>\n",
       "      <td>0.0</td>\n",
       "      <td>23.0</td>\n",
       "      <td>26.090419</td>\n",
       "    </tr>\n",
       "    <tr>\n",
       "      <th>1</th>\n",
       "      <td>0</td>\n",
       "      <td>43800</td>\n",
       "      <td>5884.0</td>\n",
       "      <td>64890.0</td>\n",
       "      <td>HomeImp</td>\n",
       "      <td>Office</td>\n",
       "      <td>8.938187</td>\n",
       "      <td>0.0</td>\n",
       "      <td>0.0</td>\n",
       "      <td>309.827548</td>\n",
       "      <td>0.0</td>\n",
       "      <td>19.0</td>\n",
       "      <td>16.160451</td>\n",
       "    </tr>\n",
       "    <tr>\n",
       "      <th>2</th>\n",
       "      <td>0</td>\n",
       "      <td>13800</td>\n",
       "      <td>75142.0</td>\n",
       "      <td>95667.0</td>\n",
       "      <td>DebtCon</td>\n",
       "      <td>Mgr</td>\n",
       "      <td>19.000000</td>\n",
       "      <td>0.0</td>\n",
       "      <td>0.0</td>\n",
       "      <td>230.457554</td>\n",
       "      <td>10.0</td>\n",
       "      <td>24.0</td>\n",
       "      <td>33.383314</td>\n",
       "    </tr>\n",
       "    <tr>\n",
       "      <th>3</th>\n",
       "      <td>1</td>\n",
       "      <td>2000</td>\n",
       "      <td>45000.0</td>\n",
       "      <td>55000.0</td>\n",
       "      <td>HomeImp</td>\n",
       "      <td>Other</td>\n",
       "      <td>3.000000</td>\n",
       "      <td>0.0</td>\n",
       "      <td>0.0</td>\n",
       "      <td>86.066667</td>\n",
       "      <td>2.0</td>\n",
       "      <td>25.0</td>\n",
       "      <td>34.738063</td>\n",
       "    </tr>\n",
       "    <tr>\n",
       "      <th>4</th>\n",
       "      <td>0</td>\n",
       "      <td>9900</td>\n",
       "      <td>47367.0</td>\n",
       "      <td>114837.0</td>\n",
       "      <td>DebtCon</td>\n",
       "      <td>ProfExe</td>\n",
       "      <td>4.000000</td>\n",
       "      <td>0.0</td>\n",
       "      <td>0.0</td>\n",
       "      <td>210.435534</td>\n",
       "      <td>0.0</td>\n",
       "      <td>10.0</td>\n",
       "      <td>25.042109</td>\n",
       "    </tr>\n",
       "  </tbody>\n",
       "</table>\n",
       "</div>"
      ],
      "text/plain": [
       "   BAD   LOAN  MORTDUE     VALUE   REASON      JOB        YOJ  DEROG  DELINQ  \\\n",
       "0    0   9100  62976.0   77829.0  HomeImp      Mgr   0.000000    0.0     2.0   \n",
       "1    0  43800   5884.0   64890.0  HomeImp   Office   8.938187    0.0     0.0   \n",
       "2    0  13800  75142.0   95667.0  DebtCon      Mgr  19.000000    0.0     0.0   \n",
       "3    1   2000  45000.0   55000.0  HomeImp    Other   3.000000    0.0     0.0   \n",
       "4    0   9900  47367.0  114837.0  DebtCon  ProfExe   4.000000    0.0     0.0   \n",
       "\n",
       "        CLAGE  NINQ  CLNO    DEBTINC  \n",
       "0  131.193496   0.0  23.0  26.090419  \n",
       "1  309.827548   0.0  19.0  16.160451  \n",
       "2  230.457554  10.0  24.0  33.383314  \n",
       "3   86.066667   2.0  25.0  34.738063  \n",
       "4  210.435534   0.0  10.0  25.042109  "
      ]
     },
     "execution_count": 14,
     "metadata": {},
     "output_type": "execute_result"
    }
   ],
   "source": [
    "data_clean.head()"
   ]
  },
  {
   "cell_type": "code",
   "execution_count": 20,
   "metadata": {},
   "outputs": [
    {
     "data": {
      "text/plain": [
       "(5960, 13)"
      ]
     },
     "execution_count": 20,
     "metadata": {},
     "output_type": "execute_result"
    }
   ],
   "source": [
    "data_clean.shape"
   ]
  }
 ],
 "metadata": {
  "kernelspec": {
   "display_name": "Python 3",
   "language": "python",
   "name": "python3"
  },
  "language_info": {
   "codemirror_mode": {
    "name": "ipython",
    "version": 3
   },
   "file_extension": ".py",
   "mimetype": "text/x-python",
   "name": "python",
   "nbconvert_exporter": "python",
   "pygments_lexer": "ipython3",
   "version": "3.7.6"
  }
 },
 "nbformat": 4,
 "nbformat_minor": 4
}
